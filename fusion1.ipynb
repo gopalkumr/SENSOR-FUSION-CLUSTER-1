{
  "cells": [
    {
      "cell_type": "markdown",
      "metadata": {
        "id": "p4xLvJXEK8rL"
      },
      "source": [
        "**Dowloading NuScences Dataset which contains RADAR data**"
      ]
    },
    {
      "cell_type": "code",
      "execution_count": 2,
      "metadata": {
        "colab": {
          "base_uri": "https://localhost:8080/"
        },
        "id": "cCqHy9PIXZXt",
        "outputId": "e8d431b9-0107-4d45-b189-00c133fab96e"
      },
      "outputs": [
        {
          "name": "stdout",
          "output_type": "stream",
          "text": [
            "--2022-03-18 06:56:34--  https://www.nuscenes.org/data/v1.0-mini.tgz\n",
            "Resolving www.nuscenes.org (www.nuscenes.org)... 13.226.235.72, 13.226.235.4, 13.226.235.9, ...\n",
            "Connecting to www.nuscenes.org (www.nuscenes.org)|13.226.235.72|:443... connected.\n",
            "HTTP request sent, awaiting response... 200 OK\n",
            "Length: 4167696325 (3.9G) [application/x-tar]\n",
            "Saving to: ‘v1.0-mini.tgz’\n",
            "\n",
            "v1.0-mini.tgz       100%[===================>]   3.88G  76.4MB/s    in 53s     \n",
            "\n",
            "2022-03-18 06:57:26 (75.4 MB/s) - ‘v1.0-mini.tgz’ saved [4167696325/4167696325]\n",
            "\n",
            "--2022-03-18 06:57:27--  https://www.nuscenes.org/data/nuScenes-lidarseg-mini-v1.0.tar.bz2\n",
            "Resolving www.nuscenes.org (www.nuscenes.org)... 99.84.192.19, 99.84.192.111, 99.84.192.114, ...\n",
            "Connecting to www.nuscenes.org (www.nuscenes.org)|99.84.192.19|:443... connected.\n",
            "HTTP request sent, awaiting response... 200 OK\n",
            "Length: 1819477 (1.7M) [application/x-tar]\n",
            "Saving to: ‘nuScenes-lidarseg-mini-v1.0.tar.bz2’\n",
            "\n",
            "nuScenes-lidarseg-m 100%[===================>]   1.73M  4.24MB/s    in 0.4s    \n",
            "\n",
            "2022-03-18 06:57:27 (4.24 MB/s) - ‘nuScenes-lidarseg-mini-v1.0.tar.bz2’ saved [1819477/1819477]\n",
            "\n"
          ]
        }
      ],
      "source": [
        "!mkdir -p /data/sets/nuscenes  # Make the directory to store the nuScenes dataset in.\n",
        "\n",
        "!wget https://www.nuscenes.org/data/v1.0-mini.tgz  # Download the nuScenes mini split.\n",
        "!wget https://www.nuscenes.org/data/nuScenes-lidarseg-mini-v1.0.tar.bz2  # Download the nuScenes-lidarseg mini split.\n",
        "\n",
        "!tar -xf v1.0-mini.tgz -C /data/sets/nuscenes  # Uncompress the nuScenes mini split.\n",
        "!tar -xf nuScenes-lidarseg-mini-v1.0.tar.bz2 -C /data/sets/nuscenes   # Uncompress the nuScenes-lidarseg mini split.\n",
        "\n",
        "!pip install nuscenes-devkit &> /dev/null  # Install nuScene"
      ]
    },
    {
      "cell_type": "code",
      "execution_count": 3,
      "metadata": {
        "colab": {
          "base_uri": "https://localhost:8080/"
        },
        "id": "wtGlaK5of3Y-",
        "outputId": "1732d1d1-3ff3-471c-b352-03137a0dc690"
      },
      "outputs": [
        {
          "name": "stdout",
          "output_type": "stream",
          "text": [
            "======\n",
            "Loading NuScenes tables for version v1.0-mini...\n",
            "Loading nuScenes-lidarseg...\n",
            "32 category,\n",
            "8 attribute,\n",
            "4 visibility,\n",
            "911 instance,\n",
            "12 sensor,\n",
            "120 calibrated_sensor,\n",
            "31206 ego_pose,\n",
            "8 log,\n",
            "10 scene,\n",
            "404 sample,\n",
            "31206 sample_data,\n",
            "18538 sample_annotation,\n",
            "4 map,\n",
            "404 lidarseg,\n",
            "Done loading in 0.748 seconds.\n",
            "======\n",
            "Reverse indexing ...\n",
            "Done reverse indexing in 0.2 seconds.\n",
            "======\n"
          ]
        }
      ],
      "source": [
        "%matplotlib inline\n",
        "\n",
        "from nuscenes import NuScenes\n",
        "\n",
        "nusc = NuScenes(version='v1.0-mini', dataroot='/data/sets/nuscenes', verbose=True)"
      ]
    },
    {
      "cell_type": "markdown",
      "metadata": {
        "id": "L_QVNTgNLkur"
      },
      "source": [
        "**Downloading Nuimages which contains all the CAMERA Data** "
      ]
    },
    {
      "cell_type": "code",
      "execution_count": 4,
      "metadata": {
        "colab": {
          "base_uri": "https://localhost:8080/"
        },
        "id": "OXxeSQCgmp6s",
        "outputId": "7dce45bc-f146-4600-8960-1f628685d0f9"
      },
      "outputs": [
        {
          "name": "stdout",
          "output_type": "stream",
          "text": [
            "--2022-03-18 07:00:22--  https://www.nuscenes.org/data/nuimages-v1.0-mini.tgz\n",
            "Resolving www.nuscenes.org (www.nuscenes.org)... 99.84.192.19, 99.84.192.113, 99.84.192.111, ...\n",
            "Connecting to www.nuscenes.org (www.nuscenes.org)|99.84.192.19|:443... connected.\n",
            "HTTP request sent, awaiting response... 200 OK\n",
            "Length: 117929607 (112M) [application/x-tar]\n",
            "Saving to: ‘nuimages-v1.0-mini.tgz’\n",
            "\n",
            "nuimages-v1.0-mini. 100%[===================>] 112.47M   157MB/s    in 0.7s    \n",
            "\n",
            "2022-03-18 07:00:23 (157 MB/s) - ‘nuimages-v1.0-mini.tgz’ saved [117929607/117929607]\n",
            "\n"
          ]
        }
      ],
      "source": [
        "!mkdir -p /data/sets/nuimages \n",
        "!wget https://www.nuscenes.org/data/nuimages-v1.0-mini.tgz \n",
        "!tar -xf nuimages-v1.0-mini.tgz -C /data/sets/nuimages  \n",
        "!pip install nuscenes-devkit &> /dev/null "
      ]
    },
    {
      "cell_type": "markdown",
      "metadata": {
        "id": "utqDMLel0KlE"
      },
      "source": [
        "**A sample of RADAR DATA**"
      ]
    },
    {
      "cell_type": "code",
      "execution_count": 5,
      "metadata": {
        "colab": {
          "base_uri": "https://localhost:8080/",
          "height": 536
        },
        "id": "rwi3zYMWfsOu",
        "outputId": "7e4c8d8c-4dce-4f63-dd24-874f56667c50"
      },
      "outputs": [
        {
          "data": {
            "image/png": "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",
            "text/plain": [
              "<Figure size 648x648 with 1 Axes>"
            ]
          },
          "metadata": {
            "needs_background": "light"
          },
          "output_type": "display_data"
        }
      ],
      "source": [
        "my_sample = nusc.sample[87]\n",
        "radar_data=nusc.render_sample_data(my_sample['data']['RADAR_FRONT'], nsweeps=5, underlay_map=True) "
      ]
    },
    {
      "cell_type": "markdown",
      "metadata": {
        "id": "Yre5OLOdUk_H"
      },
      "source": [
        "**Importing CAMERA data as numpy array**"
      ]
    },
    {
      "cell_type": "code",
      "execution_count": 6,
      "metadata": {
        "colab": {
          "base_uri": "https://localhost:8080/"
        },
        "id": "IIREjzpzW3EM",
        "outputId": "b673974e-18cf-48ea-b706-5c6a93653145"
      },
      "outputs": [
        {
          "name": "stdout",
          "output_type": "stream",
          "text": [
            "<class 'numpy.ndarray'>\n",
            "(900, 1600, 3)\n",
            "<class 'PIL.Image.Image'>\n",
            "RGB\n",
            "(1600, 900)\n"
          ]
        }
      ],
      "source": [
        "from google.colab.patches import cv2_imshow\n",
        "import cv2\n",
        "image_data= cv2.imread(\"/data/sets/nuimages/samples/CAM_BACK/n003-2018-01-03-12-03-23+0800__CAM_BACK__1514952316316487.jpg\")\n",
        "from PIL import Image\n",
        "from numpy import asarray\n",
        "import numpy as np\n",
        "# load the image\n",
        "\n",
        "# convert image to numpy array\n",
        "data = asarray(image_data)\n",
        "print(type(data))\n",
        "# summarize shape\n",
        "print(data.shape)\n",
        "\n",
        "# create Pillow image\n",
        "image2 = Image.fromarray(data)\n",
        "print(type(image2))\n",
        "\n",
        "# summarize image details\n",
        "print(image2.mode)\n",
        "print(image2.size)\n",
        "\n"
      ]
    },
    {
      "cell_type": "markdown",
      "metadata": {
        "id": "josj6mFDMyrv"
      },
      "source": [
        "**Importing RADAR data as numpy array**"
      ]
    },
    {
      "cell_type": "code",
      "execution_count": 7,
      "metadata": {
        "colab": {
          "base_uri": "https://localhost:8080/"
        },
        "id": "W0h00JP2m_0b",
        "outputId": "5225265b-ca06-4ef3-9778-382bb907a7c3"
      },
      "outputs": [
        {
          "name": "stdout",
          "output_type": "stream",
          "text": [
            "(51, 18)\n"
          ]
        }
      ],
      "source": [
        "import os.path as osp\n",
        "\n",
        "from nuscenes.nuscenes import NuScenes\n",
        "from nuscenes.utils.data_classes import RadarPointCloud\n",
        "\n",
        "\n",
        "# Load the nuScenes dataset (mini-split, in this case).\n",
        "nusc = NuScenes(version='v1.0-mini', dataroot='/data/sets/nuscenes', verbose=False)\n",
        "\n",
        "sample_record = nusc.sample[100]\n",
        "pointsensor_token = sample_record['data']['RADAR_FRONT']\n",
        "pointsensor = nusc.get('sample_data', pointsensor_token)\n",
        "pcl_path = osp.join(nusc.dataroot, pointsensor['filename'])\n",
        "\n",
        "pc = RadarPointCloud.from_file(pcl_path)\n",
        "radar_data = pc.points.T\n",
        "\n",
        "print(radar_data.shape)  # shape: (N, 18), where N is the number of radar points"
      ]
    },
    {
      "cell_type": "markdown",
      "metadata": {
        "id": "XAy5wdqZMG4G"
      },
      "source": [
        "**Transforming Radar Data**"
      ]
    },
    {
      "cell_type": "code",
      "execution_count": 8,
      "metadata": {
        "id": "OeoO8hJQoG7j"
      },
      "outputs": [],
      "source": [
        "def _radar_transformation(radar_data, height=None):\n",
        "    \"\"\"\n",
        "    Transforms the given radar data with height z = 0 and another height as input using extrinsic radar matrix to vehicle's co-sy\n",
        "\n",
        "    This function appends the distance to the radar point.\n",
        "\n",
        "    Parameters:\n",
        "    :param radar_data: [numpy array] with radar parameter (e.g. velocity) in rows and radar points for one timestep in columns\n",
        "        Semantics: x y z dyn_prop id rcs vx vy vx_comp vy_comp is_quality_valid ambig_state x_rms y_rms invalid_state pdh0 distance\n",
        "    :param radar_extrinsic: [numpy array (3x4)] that consists of the extrinsic parameters of the given radar sensor\n",
        "    :param height: [tuple] (min height, max height) that defines the (unknown) height of the radar points\n",
        "\n",
        "    Returns:\n",
        "    :returns radar_data: [numpy array (m x no of points)] that consists of the transformed radar points with z = 0\n",
        "    :returns radar_xyz_endpoint: [numpy array (3 x no of points)] that consits of the transformed radar points z = height  \n",
        "    \"\"\"\n",
        "\n",
        "    # Field of view (global)\n",
        "    ELEVATION_FOV_SR = 20\n",
        "    ELEVATION_FOV_FR = 14  \n",
        "\n",
        "    # initialization\n",
        "    num_points = radar_data.shape[1]\n",
        "\n",
        "    # Radar points for the endpoint\n",
        "    radar_xyz_endpoint = radar_data[0:3,:].copy()\n",
        "\n",
        "    # variant 1: constant height substracted by RADAR_HEIGHT\n",
        "    RADAR_HEIGHT = 0.5\n",
        "    if height:\n",
        "        radar_data[2, :] = np.ones((num_points,)) * (height[0] - RADAR_HEIGHT) # lower points\n",
        "        radar_xyz_endpoint[2, :] = np.ones((num_points,)) * (height[1] - RADAR_HEIGHT) # upper points\n",
        "    \n",
        "    # variant 2: field of view\n",
        "    else:\n",
        "        dist = radar_data[-1,:]\n",
        "        count = 0\n",
        "        for d in dist:\n",
        "            # short range mode\n",
        "            if d <= 70: \n",
        "                radar_xyz_endpoint[2, count] = -d * np.tan(ELEVATION_FOV_SR/2)\n",
        "                \n",
        "            # long range mode\n",
        "            else:\n",
        "                radar_xyz_endpoint[2, count] = -d * np.tan(ELEVATION_FOV_FR/2)\n",
        "\n",
        "            count += 1\n",
        "\n",
        "    return radar_data, radar_xyz_endpoint"
      ]
    },
    {
      "cell_type": "code",
      "execution_count": 9,
      "metadata": {
        "id": "GLUulGy2xKKT"
      },
      "outputs": [],
      "source": [
        "ELEVATION_FOV_SR = 20\n",
        "ELEVATION_FOV_FR = 14  \n",
        "\n",
        "    # initialization\n",
        "num_points = radar_data.shape[1]\n",
        "\n",
        "    # Radar points for the endpoint\n",
        "radar_xyz_endpoint = radar_data[0:3,:].copy()"
      ]
    },
    {
      "cell_type": "code",
      "execution_count": 10,
      "metadata": {
        "id": "A2EpvY4KKRFj"
      },
      "outputs": [],
      "source": [
        "import numpy as np\n",
        "#radar_xyz_endpoint=_radar_transformation(radar_data, height=None)\n"
      ]
    },
    {
      "cell_type": "code",
      "execution_count": 12,
      "metadata": {
        "colab": {
          "base_uri": "https://localhost:8080/"
        },
        "id": "lnGMZ7QeTShX",
        "outputId": "f2219923-4b95-471e-96d7-3bfc47453450"
      },
      "outputs": [
        {
          "data": {
            "text/plain": [
              "array([[ 6.5999999 ,  4.30000019,  0.        ,  2.        ,  2.        ,\n",
              "        -2.        , -1.25      ,  0.        , -0.87479073, -0.56993949,\n",
              "         1.        ,  3.        , 19.        , 19.        ,  0.        ,\n",
              "         1.        , 17.        ,  3.        ],\n",
              "       [ 6.4000001 ,  5.9000001 ,  0.        ,  1.        ,  3.        ,\n",
              "        -4.5       , -0.25      ,  0.        , -0.13216807, -0.12184244,\n",
              "         1.        ,  3.        , 19.        , 19.        ,  0.        ,\n",
              "         1.        , 17.        ,  3.        ],\n",
              "       [17.79999924,  6.30000019,  0.        ,  6.        ,  4.        ,\n",
              "         4.        , -4.75      ,  0.        , -4.21935081, -1.49336588,\n",
              "         1.        ,  3.        , 19.        , 19.        ,  0.        ,\n",
              "         1.        , 16.        ,  3.        ]])"
            ]
          },
          "execution_count": 12,
          "metadata": {},
          "output_type": "execute_result"
        }
      ],
      "source": [
        "radar_xyz_endpoint"
      ]
    },
    {
      "cell_type": "markdown",
      "metadata": {
        "id": "HuRv0BVtU8Oo"
      },
      "source": [
        "**Radar points to camera Conversion**"
      ]
    },
    {
      "cell_type": "code",
      "execution_count": 13,
      "metadata": {
        "id": "csyHBbvEyLBf"
      },
      "outputs": [],
      "source": [
        "def _create_vertical_line(P1, P2, img):\n",
        "    \"\"\"\n",
        "    Produces and array that consists of the coordinates and intensities of each pixel in a line between two points\n",
        "\n",
        "    :param P1: [numpy array] that consists of the coordinate of the first point (x,y)\n",
        "    :param P2: [numpy array] that consists of the coordinate of the second point (x,y)\n",
        "    :param img: [numpy array] the image being processed\n",
        "\n",
        "    :return itbuffer: [numpy array] that consists of the coordinates and intensities of each pixel in the radii (shape: [numPixels, 3], row = [x,y])     \n",
        "    \"\"\"\n",
        "    # define local variables for readability\n",
        "    imageH = img.shape[0]\n",
        "    imageW = img.shape[1]\n",
        "\n",
        "    # difference and absolute difference between points\n",
        "    # used to calculate slope and relative location between points\n",
        "    P1_y = int(P1[1])\n",
        "    P2_y = int(P2[1])\n",
        "    dX = 0\n",
        "    dY = P2_y - P1_y\n",
        "    if dY == 0:\n",
        "        dY = 1\n",
        "    dXa = np.abs(dX)\n",
        "    dYa = np.abs(dY)\n",
        "\n",
        "    # predefine numpy array for output based on distance between points\n",
        "    itbuffer = np.empty(\n",
        "        shape=(np.maximum(int(dYa), int(dXa)), 2), dtype=np.float32)\n",
        "    itbuffer.fill(np.nan)\n",
        "\n",
        "    # vertical line segment\n",
        "    itbuffer[:, 0] = int(P1[0])\n",
        "    if P1_y > P2_y:\n",
        "        # Obtain coordinates along the line using a form of Bresenham's algorithm\n",
        "        itbuffer[:, 1] = np.arange(P1_y - 1, P1_y - dYa - 1, -1)\n",
        "    else:\n",
        "        itbuffer[:, 1] = np.arange(P1_y+1, P1_y+dYa+1)\n",
        "\n",
        "    # Remove points outside of image\n",
        "    colX = itbuffer[:, 0].astype(int)\n",
        "    colY = itbuffer[:, 1].astype(int)\n",
        "    itbuffer = itbuffer[(colX >= 0) & (colY >= 0) &\n",
        "                        (colX < imageW) & (colY < imageH)]\n",
        "\n",
        "    return itbuffer\n"
      ]
    },
    {
      "cell_type": "code",
      "execution_count": 15,
      "metadata": {
        "id": "o6cDqe3_NWfJ"
      },
      "outputs": [],
      "source": [
        "\n",
        "def _radar2camera(image_data, radar_data, radar_xyz_endpoints, clear_radar=False):\n",
        "    \"\"\"\n",
        "    \n",
        "    Calculates a line of two radar points and puts the radar_meta data as additonal layers to the image -> image_plus\n",
        "\n",
        "\n",
        "    :param image_data: [numpy array (900 x 1600 x 3)] of image data\n",
        "    :param radar_data: [numpy array (xyz+meta x no of points)] that consists of the transformed radar points with z = 0\n",
        "        default semantics: x y z dyn_prop id rcs vx vy vx_comp vy_comp is_quality_valid ambig_state x_rms y_rms invalid_state pdh0 vx_rms vy_rms distance\n",
        "    :param radar_xyz_endpoints: [numpy array (3 x no of points)] that consits of the transformed radar points z = height\n",
        "    :param clear_radar: [boolean] True if radar data should be all zero\n",
        "\n",
        "    :return image_plus: a numpy array (900 x 1600 x (3 + number of radar_meta (e.g. velocity)))\n",
        "    \"\"\"\n",
        "\n",
        "    radar_meta_count = radar_data.shape[0]-3\n",
        "    radar_extension = np.zeros(\n",
        "        (image_data.shape[0], image_data.shape[1], radar_meta_count), dtype=np.float32)\n",
        "    no_of_points = radar_data.shape[1]\n",
        "\n",
        "    if clear_radar:\n",
        "        pass # we just don't add it to the image\n",
        "    else:\n",
        "        for radar_point in range(0, no_of_points):\n",
        "            projection_line = _create_vertical_line(\n",
        "                radar_data[0:2, radar_point], radar_xyz_endpoints[0:2, radar_point], image_data)\n",
        "\n",
        "            for pixel_point in range(0, projection_line.shape[0]):\n",
        "                y = projection_line[pixel_point, 1].astype(int)\n",
        "                x = projection_line[pixel_point, 0].astype(int)\n",
        "\n",
        "                # Check if pixel is already filled with radar data and overwrite if distance is less than the existing\n",
        "                if not np.any(radar_extension[y, x]) or radar_data[-1, radar_point] < radar_extension[y, x, -1]:\n",
        "                    radar_extension[y, x] = radar_data[3:, radar_point]\n",
        "\n",
        "\n",
        "    image_plus = np.concatenate((image_data, radar_extension), axis=2)\n",
        "\n",
        "    return image_plus"
      ]
    },
    {
      "cell_type": "code",
      "execution_count": 16,
      "metadata": {
        "colab": {
          "base_uri": "https://localhost:8080/"
        },
        "id": "FYN69NcANZA2",
        "outputId": "5b10de99-d876-4902-8c73-9ff7b60f530a"
      },
      "outputs": [
        {
          "data": {
            "text/plain": [
              "numpy.ndarray"
            ]
          },
          "execution_count": 16,
          "metadata": {},
          "output_type": "execute_result"
        }
      ],
      "source": [
        "z=_radar2camera(image_data, radar_data,radar_xyz_endpoint, clear_radar=False)\n",
        "type(z)"
      ]
    },
    {
      "cell_type": "code",
      "execution_count": 17,
      "metadata": {
        "colab": {
          "base_uri": "https://localhost:8080/"
        },
        "id": "OGrz9J5yyRhb",
        "outputId": "7a53c9e5-032e-4295-89da-575bd6fb92ed"
      },
      "outputs": [
        {
          "name": "stdout",
          "output_type": "stream",
          "text": [
            "[[[ 68.  62.  57. ...   0.   0.   0.]\n",
            "  [ 74.  68.  63. ...   0.   0.   0.]\n",
            "  [ 81.  75.  70. ...   0.   0.   0.]\n",
            "  ...\n",
            "  [191. 172. 167. ...   0.   0.   0.]\n",
            "  [197. 181. 175. ...   0.   0.   0.]\n",
            "  [ 18.   2.   0. ...   0.   0.   0.]]\n",
            "\n",
            " [[ 69.  63.  58. ...   0.   0.   0.]\n",
            "  [ 74.  68.  63. ...   0.   0.   0.]\n",
            "  [ 80.  74.  69. ...   0.   0.   0.]\n",
            "  ...\n",
            "  [191. 172. 167. ...   0.   0.   0.]\n",
            "  [197. 181. 175. ...   0.   0.   0.]\n",
            "  [ 18.   2.   0. ...   0.   0.   0.]]\n",
            "\n",
            " [[ 69.  63.  58. ...   0.   0.   0.]\n",
            "  [ 73.  67.  62. ...   1.   1.   1.]\n",
            "  [ 79.  73.  68. ...   1.   1.   1.]\n",
            "  ...\n",
            "  [188. 172. 166. ...   0.   0.   0.]\n",
            "  [197. 181. 175. ...   0.   0.   0.]\n",
            "  [ 17.   1.   0. ...   0.   0.   0.]]\n",
            "\n",
            " ...\n",
            "\n",
            " [[141. 131. 124. ...   0.   0.   0.]\n",
            "  [139. 132. 123. ...   0.   0.   0.]\n",
            "  [141. 131. 124. ...   0.   0.   0.]\n",
            "  ...\n",
            "  [138. 131. 122. ...   0.   0.   0.]\n",
            "  [120. 110. 103. ...   0.   0.   0.]\n",
            "  [  9.   2.   0. ...   0.   0.   0.]]\n",
            "\n",
            " [[136. 127. 123. ...   0.   0.   0.]\n",
            "  [134. 128. 121. ...   0.   0.   0.]\n",
            "  [136. 127. 123. ...   0.   0.   0.]\n",
            "  ...\n",
            "  [132. 126. 119. ...   0.   0.   0.]\n",
            "  [115. 106. 102. ...   0.   0.   0.]\n",
            "  [ 37.  31.  24. ...   0.   0.   0.]]\n",
            "\n",
            " [[  7.   1.   0. ...   0.   0.   0.]\n",
            "  [  7.   1.   0. ...   0.   0.   0.]\n",
            "  [  7.   1.   0. ...   0.   0.   0.]\n",
            "  ...\n",
            "  [ 13.   7.   2. ...   0.   0.   0.]\n",
            "  [ 15.   9.   4. ...   0.   0.   0.]\n",
            "  [  7.   1.   0. ...   0.   0.   0.]]]\n"
          ]
        }
      ],
      "source": [
        "print(z)"
      ]
    },
    {
      "cell_type": "markdown",
      "metadata": {
        "id": "gqYoOV4Eyw1J"
      },
      "source": [
        "**Mapping Point Cloud to Image**"
      ]
    },
    {
      "cell_type": "markdown",
      "metadata": {
        "id": "Z1BcQQML1Suh"
      },
      "source": [
        "**Yet to do**"
      ]
    }
  ],
  "metadata": {
    "colab": {
      "authorship_tag": "ABX9TyPDAC9cOSpKw0cbHOBWrPKJ",
      "collapsed_sections": [],
      "name": "fusion1.ipynb",
      "provenance": []
    },
    "kernelspec": {
      "display_name": "Python 3",
      "name": "python3"
    },
    "language_info": {
<<<<<<< HEAD
      "name": "python",
      "version": "3.9.13"
=======
      "name": "python"
>>>>>>> bb3f69c1e5db0e7f23f8bde48f449c5f6e021eb6
    }
  },
  "nbformat": 4,
  "nbformat_minor": 0
}
